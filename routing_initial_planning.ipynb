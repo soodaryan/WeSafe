{
 "cells": [
  {
   "cell_type": "code",
   "execution_count": 12,
   "metadata": {},
   "outputs": [],
   "source": [
    "import json\n",
    "\n",
    "import numpy as np\n",
    "import pandas as pd\n",
    "\n",
    "from scipy.stats import gaussian_kde"
   ]
  },
  {
   "cell_type": "code",
   "execution_count": 5,
   "metadata": {},
   "outputs": [
    {
     "data": {
      "text/html": [
       "<div>\n",
       "<style scoped>\n",
       "    .dataframe tbody tr th:only-of-type {\n",
       "        vertical-align: middle;\n",
       "    }\n",
       "\n",
       "    .dataframe tbody tr th {\n",
       "        vertical-align: top;\n",
       "    }\n",
       "\n",
       "    .dataframe thead th {\n",
       "        text-align: right;\n",
       "    }\n",
       "</style>\n",
       "<table border=\"1\" class=\"dataframe\">\n",
       "  <thead>\n",
       "    <tr style=\"text-align: right;\">\n",
       "      <th></th>\n",
       "      <th>Name</th>\n",
       "      <th>Date</th>\n",
       "      <th>Latitude</th>\n",
       "      <th>Longitude</th>\n",
       "    </tr>\n",
       "  </thead>\n",
       "  <tbody>\n",
       "    <tr>\n",
       "      <th>0</th>\n",
       "      <td>snatching</td>\n",
       "      <td>2024-07-25</td>\n",
       "      <td>28.7041</td>\n",
       "      <td>77.1025</td>\n",
       "    </tr>\n",
       "    <tr>\n",
       "      <th>1</th>\n",
       "      <td>women abuse</td>\n",
       "      <td>2024-07-24</td>\n",
       "      <td>28.7046</td>\n",
       "      <td>77.1031</td>\n",
       "    </tr>\n",
       "    <tr>\n",
       "      <th>2</th>\n",
       "      <td>rape</td>\n",
       "      <td>2024-07-23</td>\n",
       "      <td>28.7051</td>\n",
       "      <td>77.1036</td>\n",
       "    </tr>\n",
       "    <tr>\n",
       "      <th>3</th>\n",
       "      <td>kidnapping</td>\n",
       "      <td>2024-07-22</td>\n",
       "      <td>28.7056</td>\n",
       "      <td>77.1041</td>\n",
       "    </tr>\n",
       "    <tr>\n",
       "      <th>4</th>\n",
       "      <td>murder</td>\n",
       "      <td>2024-07-21</td>\n",
       "      <td>28.7061</td>\n",
       "      <td>77.1046</td>\n",
       "    </tr>\n",
       "  </tbody>\n",
       "</table>\n",
       "</div>"
      ],
      "text/plain": [
       "          Name       Date  Latitude  Longitude\n",
       "0    snatching 2024-07-25   28.7041    77.1025\n",
       "1  women abuse 2024-07-24   28.7046    77.1031\n",
       "2         rape 2024-07-23   28.7051    77.1036\n",
       "3   kidnapping 2024-07-22   28.7056    77.1041\n",
       "4       murder 2024-07-21   28.7061    77.1046"
      ]
     },
     "execution_count": 5,
     "metadata": {},
     "output_type": "execute_result"
    }
   ],
   "source": [
    "path = \"modified_json_500_crimes.json\"\n",
    "data_df = pd.read_json(path)\n",
    "data_df.head()"
   ]
  },
  {
   "cell_type": "code",
   "execution_count": 11,
   "metadata": {},
   "outputs": [
    {
     "data": {
      "text/html": [
       "<div>\n",
       "<style scoped>\n",
       "    .dataframe tbody tr th:only-of-type {\n",
       "        vertical-align: middle;\n",
       "    }\n",
       "\n",
       "    .dataframe tbody tr th {\n",
       "        vertical-align: top;\n",
       "    }\n",
       "\n",
       "    .dataframe thead th {\n",
       "        text-align: right;\n",
       "    }\n",
       "</style>\n",
       "<table border=\"1\" class=\"dataframe\">\n",
       "  <thead>\n",
       "    <tr style=\"text-align: right;\">\n",
       "      <th></th>\n",
       "      <th>Name</th>\n",
       "      <th>Date</th>\n",
       "      <th>Latitude</th>\n",
       "      <th>Longitude</th>\n",
       "      <th>weight</th>\n",
       "    </tr>\n",
       "  </thead>\n",
       "  <tbody>\n",
       "    <tr>\n",
       "      <th>0</th>\n",
       "      <td>snatching</td>\n",
       "      <td>2024-07-25</td>\n",
       "      <td>28.7041</td>\n",
       "      <td>77.1025</td>\n",
       "      <td>1</td>\n",
       "    </tr>\n",
       "    <tr>\n",
       "      <th>1</th>\n",
       "      <td>women abuse</td>\n",
       "      <td>2024-07-24</td>\n",
       "      <td>28.7046</td>\n",
       "      <td>77.1031</td>\n",
       "      <td>2</td>\n",
       "    </tr>\n",
       "    <tr>\n",
       "      <th>2</th>\n",
       "      <td>rape</td>\n",
       "      <td>2024-07-23</td>\n",
       "      <td>28.7051</td>\n",
       "      <td>77.1036</td>\n",
       "      <td>3</td>\n",
       "    </tr>\n",
       "    <tr>\n",
       "      <th>3</th>\n",
       "      <td>kidnapping</td>\n",
       "      <td>2024-07-22</td>\n",
       "      <td>28.7056</td>\n",
       "      <td>77.1041</td>\n",
       "      <td>3</td>\n",
       "    </tr>\n",
       "    <tr>\n",
       "      <th>4</th>\n",
       "      <td>murder</td>\n",
       "      <td>2024-07-21</td>\n",
       "      <td>28.7061</td>\n",
       "      <td>77.1046</td>\n",
       "      <td>3</td>\n",
       "    </tr>\n",
       "  </tbody>\n",
       "</table>\n",
       "</div>"
      ],
      "text/plain": [
       "          Name       Date  Latitude  Longitude  weight\n",
       "0    snatching 2024-07-25   28.7041    77.1025       1\n",
       "1  women abuse 2024-07-24   28.7046    77.1031       2\n",
       "2         rape 2024-07-23   28.7051    77.1036       3\n",
       "3   kidnapping 2024-07-22   28.7056    77.1041       3\n",
       "4       murder 2024-07-21   28.7061    77.1046       3"
      ]
     },
     "execution_count": 11,
     "metadata": {},
     "output_type": "execute_result"
    }
   ],
   "source": [
    "crime_weights = {\n",
    "    'snatching': 1,\n",
    "    'women abuse': 2,\n",
    "    'rape': 3,\n",
    "    'kidnapping': 3 ,\n",
    "    'murder' : 3\n",
    "}\n",
    "\n",
    "# Assign weights to crimes\n",
    "data_df['weight'] = data_df['Name'].map(crime_weights)\n",
    "data_df.head()"
   ]
  },
  {
   "cell_type": "code",
   "execution_count": 10,
   "metadata": {},
   "outputs": [
    {
     "ename": "NameError",
     "evalue": "name 'recent_crimes' is not defined",
     "output_type": "error",
     "traceback": [
      "\u001b[0;31m---------------------------------------------------------------------------\u001b[0m",
      "\u001b[0;31mNameError\u001b[0m                                 Traceback (most recent call last)",
      "Cell \u001b[0;32mIn[10], line 10\u001b[0m\n\u001b[1;32m      7\u001b[0m     \u001b[38;5;28;01mreturn\u001b[39;00m kde\n\u001b[1;32m      9\u001b[0m \u001b[38;5;66;03m# Prepare crime coordinates\u001b[39;00m\n\u001b[0;32m---> 10\u001b[0m coords \u001b[38;5;241m=\u001b[39m \u001b[43mrecent_crimes\u001b[49m[[\u001b[38;5;124m'\u001b[39m\u001b[38;5;124mlatitude\u001b[39m\u001b[38;5;124m'\u001b[39m, \u001b[38;5;124m'\u001b[39m\u001b[38;5;124mlongitude\u001b[39m\u001b[38;5;124m'\u001b[39m]]\u001b[38;5;241m.\u001b[39mvalues\u001b[38;5;241m.\u001b[39mT\n\u001b[1;32m     12\u001b[0m \u001b[38;5;66;03m# Calculate KDE\u001b[39;00m\n\u001b[1;32m     13\u001b[0m kde \u001b[38;5;241m=\u001b[39m calculate_kde(coords)\n",
      "\u001b[0;31mNameError\u001b[0m: name 'recent_crimes' is not defined"
     ]
    }
   ],
   "source": [
    "\n",
    "\n",
    "# Function to calculate KDE for given coordinates\n",
    "def calculate_kde(crimes, bandwidth=0.01):\n",
    "    kde = gaussian_kde(crimes.T, bw_method=bandwidth)\n",
    "    return kde\n",
    "\n",
    "# Prepare crime coordinates\n",
    "coords = recent_crimes[['latitude', 'longitude']].values.T\n",
    "\n",
    "# Calculate KDE\n",
    "kde = calculate_kde(coords)\n"
   ]
  },
  {
   "cell_type": "code",
   "execution_count": null,
   "metadata": {},
   "outputs": [],
   "source": []
  }
 ],
 "metadata": {
  "kernelspec": {
   "display_name": "Python 3",
   "language": "python",
   "name": "python3"
  },
  "language_info": {
   "codemirror_mode": {
    "name": "ipython",
    "version": 3
   },
   "file_extension": ".py",
   "mimetype": "text/x-python",
   "name": "python",
   "nbconvert_exporter": "python",
   "pygments_lexer": "ipython3",
   "version": "3.12.4"
  }
 },
 "nbformat": 4,
 "nbformat_minor": 2
}
